{
 "cells": [
  {
   "cell_type": "code",
   "execution_count": 1,
   "metadata": {},
   "outputs": [],
   "source": [
    "import numpy as np, healpy as hp, pickle, sys\n",
    "from matplotlib.pyplot import *\n",
    "import local, tools_cmb\n",
    "import binning, plottools as pl"
   ]
  },
  {
   "cell_type": "code",
   "execution_count": 2,
   "metadata": {},
   "outputs": [],
   "source": [
    "qids = ['boss_d03']\n",
    "kwargs = {'snmin':1,'snmax':2,'wind':'base','ivar':'base','fltr':'cinv'}"
   ]
  },
  {
   "cell_type": "code",
   "execution_count": 3,
   "metadata": {},
   "outputs": [],
   "source": [
    "aobj = {q: local.init_analysis_params(qid=q,**kwargs) for q in qids}"
   ]
  },
  {
   "cell_type": "code",
   "execution_count": 4,
   "metadata": {},
   "outputs": [
    {
     "name": "stdout",
     "output_type": "stream",
     "text": [
      "[0.00000000e+00 0.00000000e+00 1.75328882e-04 ... 1.06341838e-04\n",
      " 7.44495919e-05 6.68383611e-05]\n"
     ]
    }
   ],
   "source": [
    "rl = {}\n",
    "for qi, qid in enumerate(qids):\n",
    "    rl[qid] = np.loadtxt(aobj[qid].fsup,unpack=True)[2]\n",
    "    print(rl[qid])"
   ]
  },
  {
   "cell_type": "code",
   "execution_count": 6,
   "metadata": {},
   "outputs": [
    {
     "data": {
      "text/plain": [
       "<matplotlib.legend.Legend at 0x2aaaf0e91080>"
      ]
     },
     "execution_count": 6,
     "metadata": {},
     "output_type": "execute_result"
    },
    {
     "data": {
      "image/png": "[encoded data removed]",
      "text/plain": [
       "<Figure size 432x288 with 1 Axes>"
      ]
     },
     "metadata": {
      "needs_background": "light"
     },
     "output_type": "display_data"
    }
   ],
   "source": [
    "l = aobj[qids[0]].l\n",
    "for qi, qid in enumerate(qids):\n",
    "    plot(l,rl[qid],label=qid)\n",
    "axhline(1,color='k',ls='--')\n",
    "legend()"
   ]
  },
  {
   "cell_type": "code",
   "execution_count": null,
   "metadata": {},
   "outputs": [],
   "source": []
  }
 ],
 "metadata": {
  "kernelspec": {
   "display_name": "py4so",
   "language": "python",
   "name": "py4so"
  },
  "language_info": {
   "codemirror_mode": {
    "name": "ipython",
    "version": 3
   },
   "file_extension": ".py",
   "mimetype": "text/x-python",
   "name": "python",
   "nbconvert_exporter": "python",
   "pygments_lexer": "ipython3",
   "version": "3.7.2"
  }
 },
 "nbformat": 4,
 "nbformat_minor": 4
}
