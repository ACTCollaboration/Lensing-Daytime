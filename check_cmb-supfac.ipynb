{
 "cells": [
  {
   "cell_type": "code",
   "execution_count": 1,
   "metadata": {},
   "outputs": [
    {
     "name": "stderr",
     "output_type": "stream",
     "text": [
      "/global/homes/t/toshiyan/Work/Lib/actlib/actsims/actsims/noise.py:9: UserWarning: No pyfftw found. Using much slower numpy fft engine.\n",
      "  if 'fftw' not in pfft.engine: warnings.warn(\"No pyfftw found. Using much slower numpy fft engine.\")\n"
     ]
    }
   ],
   "source": [
    "import numpy as np, healpy as hp, pickle, sys\n",
    "from matplotlib.pyplot import *\n",
    "import local, tools_cmb\n",
    "import binning, plottools as pl"
   ]
  },
  {
   "cell_type": "code",
   "execution_count": 2,
   "metadata": {},
   "outputs": [],
   "source": [
    "sys.path.append(\"/global/homes/t/toshiyan/Work/Lib/actlib/actsims/\")\n",
    "sys.path.append(\"/global/homes/t/toshiyan/Work/Lib/actlib/soapack/\")\n",
    "sys.path.append(\"/global/homes/t/toshiyan/Work/Lib/actlib/\")\n",
    "sys.path.append(\"/global/homes/t/toshiyan/Work/Lib/actlib/orphics/\")\n",
    "sys.path.append(\"/global/homes/t/toshiyan/Work/Lib/actlib/tilec/\")\n",
    "from pixell import enmap\n",
    "from soapack import interfaces"
   ]
  },
  {
   "cell_type": "code",
   "execution_count": 3,
   "metadata": {},
   "outputs": [],
   "source": [
    "qids_d = ['boss_d01','boss_d02','boss_d03','boss_d04','s16_d01','s16_d02','s16_d03']\n",
    "qids_n = ['boss_01','boss_02','boss_03','boss_04']\n",
    "qids = qids_d + qids_n\n",
    "#qids = ['boss_01']\n",
    "kwargs = {'snmin':1,'snmax':2}"
   ]
  },
  {
   "cell_type": "code",
   "execution_count": 4,
   "metadata": {},
   "outputs": [],
   "source": [
    "aobj = {q: local.init_analysis_params(qid=q,**kwargs) for q in qids}"
   ]
  },
  {
   "cell_type": "code",
   "execution_count": 5,
   "metadata": {},
   "outputs": [
    {
     "name": "stdout",
     "output_type": "stream",
     "text": [
      "[0.00000000e+00 0.00000000e+00 2.83981940e-06 ... 4.11954332e-01\n",
      " 4.08480629e-01 3.37736025e-01]\n",
      "[0.00000000e+00 0.00000000e+00 2.97396934e-06 ... 4.11321957e-01\n",
      " 4.06586005e-01 3.40796998e-01]\n",
      "[0.00000000e+00 0.00000000e+00 3.53658170e-06 ... 4.03804582e-01\n",
      " 3.95851786e-01 3.52264635e-01]\n",
      "[0.00000000e+00 0.00000000e+00 3.54141207e-06 ... 4.14893871e-01\n",
      " 4.13992335e-01 3.41786486e-01]\n",
      "[0.00000000e+00 0.00000000e+00 4.44814175e-06 ... 3.97287839e-01\n",
      " 3.82373228e-01 3.33806724e-01]\n",
      "[0.00000000e+00 0.00000000e+00 4.73837834e-06 ... 3.74377283e-01\n",
      " 3.64091517e-01 3.57076750e-01]\n",
      "[0.00000000e+00 0.00000000e+00 4.81664281e-06 ... 3.98140095e-01\n",
      " 3.89234592e-01 3.43959336e-01]\n",
      "[0.00000000e+00 0.00000000e+00 3.27959066e-06 ... 3.63406035e-01\n",
      " 3.46306975e-01 2.91829182e-01]\n",
      "[0.00000000e+00 0.00000000e+00 3.26959487e-06 ... 3.69744167e-01\n",
      " 3.62407804e-01 2.92162488e-01]\n",
      "[0.00000000e+00 0.00000000e+00 3.19945179e-06 ... 3.54362092e-01\n",
      " 3.45100438e-01 2.97258309e-01]\n",
      "[0.00000000e+00 0.00000000e+00 3.50584415e-06 ... 3.71952201e-01\n",
      " 3.64239210e-01 2.93850469e-01]\n"
     ]
    }
   ],
   "source": [
    "rl = {}\n",
    "for qi, qid in enumerate(qids):\n",
    "    rl[qid] = np.loadtxt(aobj[qid].fsup,unpack=True)[2]\n",
    "    print(rl[qid])"
   ]
  },
  {
   "cell_type": "code",
   "execution_count": 6,
   "metadata": {},
   "outputs": [
    {
     "data": {
      "text/plain": [
       "<matplotlib.legend.Legend at 0x2aab94167f28>"
      ]
     },
     "execution_count": 6,
     "metadata": {},
     "output_type": "execute_result"
    },
    {
     "data": {
      "image/png": "[encoded data removed]",
      "text/plain": [
       "<Figure size 432x288 with 1 Axes>"
      ]
     },
     "metadata": {
      "needs_background": "light"
     },
     "output_type": "display_data"
    }
   ],
   "source": [
    "l = aobj[qids[0]].l\n",
    "for qi, qid in enumerate(qids_d):\n",
    "    plot(l,rl[qid],label=qid)\n",
    "axhline(1,color='k',ls='--')\n",
    "legend()"
   ]
  },
  {
   "cell_type": "code",
   "execution_count": null,
   "metadata": {},
   "outputs": [],
   "source": []
  }
 ],
 "metadata": {
  "kernelspec": {
   "display_name": "py4so",
   "language": "python",
   "name": "py4so"
  },
  "language_info": {
   "codemirror_mode": {
    "name": "ipython",
    "version": 3
   },
   "file_extension": ".py",
   "mimetype": "text/x-python",
   "name": "python",
   "nbconvert_exporter": "python",
   "pygments_lexer": "ipython3",
   "version": "3.7.2"
  }
 },
 "nbformat": 4,
 "nbformat_minor": 4
}
