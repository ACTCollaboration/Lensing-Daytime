{
 "cells": [
  {
   "cell_type": "code",
   "execution_count": 2,
   "metadata": {},
   "outputs": [],
   "source": [
    "import numpy as np, plottools as pl, local, tools_cmb, quad_func, binning as bn, analysis as ana\n",
    "from matplotlib.pyplot import *\n",
    "import warnings\n",
    "warnings.filterwarnings(\"ignore\")"
   ]
  },
  {
   "cell_type": "code",
   "execution_count": 3,
   "metadata": {},
   "outputs": [],
   "source": [
    "def plot_spec(qobj0,qobj1,w,rlz=None,cn=2,bnum=10,lmin=40,lmax=2048):\n",
    "    mb = bn.multipole_binning(bnum,lmin=lmin,lmax=lmax)\n",
    "    Skk0, Okk0 = local.load_spec(qobj0,mb,rlz=rlz,cn=cn)\n",
    "    Skk1, Okk1 = local.load_spec(qobj1,mb,rlz=rlz,cn=cn)\n",
    "    Skk = (Skk0-Skk1)/w[4]\n",
    "    Okk = (Okk0-Okk1)/w[4]\n",
    "    Mkk = np.mean(Skk,axis=0)\n",
    "    Vkk = np.std(Skk,axis=0)\n",
    "    st0 = ana.PTEs(Okk,Skk,x1pte=True)\n",
    "    st1 = ana.PTEs(Okk,Skk,x1pte=True,diag=True)\n",
    "    # plot binned spectrum lin-scale\n",
    "    pl.plot_1dstyle(fsize=[10,4],xmin=mb.lmin,xmax=lmax,ylab='$10^2L^{0.5}C_L^{\\kappa\\kappa}$')\n",
    "    errorbar(mb.bc-5,Okk-Mkk,yerr=Vkk,fmt='o')\n",
    "    plot(aobj.l,aobj.ckk,color='k',ls='--')\n",
    "    figtext(.7,.80,r'$\\chi$-PTE:'+str(np.round(st0.px1,2)))\n",
    "    figtext(.7,.75,r'$\\chi^2$-PTE:'+str(np.round(st0.px2,2)))\n",
    "    figtext(.7,.70,r'$\\chi^2$-PTE (diag):'+str(np.round(st1.px2,2)))\n",
    "    axhline(0,color='k')\n",
    "    show()"
   ]
  },
  {
   "cell_type": "code",
   "execution_count": 9,
   "metadata": {},
   "outputs": [],
   "source": [
    "dirs = local.data_directory()\n",
    "qobj = {}\n",
    "for qid in ['comb_d','comb_n']:\n",
    "    aobj = local.init_analysis_params(qid=qid,ascale=3.,wtype='com16v3')\n",
    "    qobj[qid] = quad_func.reconstruction(dirs['local'],aobj.ids,stag=aobj.stag,rlmin=500,qlist=['TT'])"
   ]
  },
  {
   "cell_type": "code",
   "execution_count": 5,
   "metadata": {},
   "outputs": [
    {
     "name": "stdout",
     "output_type": "stream",
     "text": [
      "wfactors: [1.99035681e-02 1.17988937e-06 8.74268232e-11 6.89972364e-15\n",
      " 5.64587096e-19]\n",
      "wfactors: [1.99035681e-02 1.17988937e-06 8.74268232e-11 6.89972364e-15\n",
      " 5.64587096e-19]\n",
      "wfactors: [1.99035681e-02 1.17988937e-06 8.74268232e-11 6.89972364e-15\n",
      " 5.64587096e-19]\n"
     ]
    }
   ],
   "source": [
    "w16 = tools_cmb.get_wfactors(['comb_d','comb_n'],3.,wtype='com16v3')"
   ]
  },
  {
   "cell_type": "code",
   "execution_count": 10,
   "metadata": {},
   "outputs": [
    {
     "name": "stdout",
     "output_type": "stream",
     "text": [
      "chi: 10.0 , chi (sim mean): 0.0 , chi (sim std): 5.7 , PTE: 0.04 \n",
      "chi^2: 22.1 , chi^2 (sim): 11.2 , PTE: 0.06 \n",
      "chi: 10.0 , chi (sim mean): 0.0 , chi (sim std): 5.7 , PTE: 0.04 \n",
      "chi^2: 25.3 , chi^2 (sim): 11.2 , PTE: 0.03 \n"
     ]
    },
    {
     "data": {
      "image/png": "[encoded data removed]",
      "text/plain": [
       "<Figure size 720x288 with 1 Axes>"
      ]
     },
     "metadata": {
      "needs_background": "light"
     },
     "output_type": "display_data"
    }
   ],
   "source": [
    "plot_spec(qobj['comb_d'],qobj['comb_n'],w16['comb_dn'],bnum=10,lmin=40)"
   ]
  },
  {
   "cell_type": "code",
   "execution_count": null,
   "metadata": {},
   "outputs": [],
   "source": []
  }
 ],
 "metadata": {
  "kernelspec": {
   "display_name": "py4so",
   "language": "python",
   "name": "py4so"
  },
  "language_info": {
   "codemirror_mode": {
    "name": "ipython",
    "version": 3
   },
   "file_extension": ".py",
   "mimetype": "text/x-python",
   "name": "python",
   "nbconvert_exporter": "python",
   "pygments_lexer": "ipython3",
   "version": "3.7.2"
  }
 },
 "nbformat": 4,
 "nbformat_minor": 4
}
