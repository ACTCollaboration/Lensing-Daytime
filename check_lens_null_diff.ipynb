{
 "cells": [
  {
   "cell_type": "code",
   "execution_count": 1,
   "metadata": {},
   "outputs": [],
   "source": [
    "import numpy as np, plottools as pl, local, tools_cmb, quad_func, binning as bn, analysis as ana\n",
    "from matplotlib.pyplot import *\n",
    "import warnings\n",
    "warnings.filterwarnings(\"ignore\")"
   ]
  },
  {
   "cell_type": "code",
   "execution_count": 20,
   "metadata": {},
   "outputs": [],
   "source": [
    "def plot_spec(qobj,w,rlz=None,cn=1,lmin=40,lmax=2048,bnum=10):\n",
    "    mb = bn.multipole_binning(bnum,lmin=lmin,lmax=lmax)\n",
    "    Skk, Okk = local.load_spec(qobj,mb,rlz=rlz,cn=cn)\n",
    "    Mkk = np.mean(Skk,axis=0)\n",
    "    Vkk = np.std(Skk,axis=0)\n",
    "    if rlz is not None:\n",
    "        skk, okk = local.load_spec(qobj,mb,rlz=None,cn=cn)\n",
    "        vkk = np.std(skk,axis=0)\n",
    "        print(Vkk/vkk)\n",
    "    st0 = ana.PTEs(Okk,Skk,x1pte=True)\n",
    "    st1 = ana.PTEs(Okk,Skk,x1pte=True,diag=True)\n",
    "    # plot binned spectrum lin-scale\n",
    "    pl.plot_1dstyle(fsize=[10,4],xmin=mb.lmin,xmax=lmax,ylab='$10^2L^{0.5}C_L^{\\kappa\\kappa}$')\n",
    "    errorbar(mb.bc-5,mb.bc**0.5*(Okk-Mkk)/w[4]*1e2,yerr=mb.bc**0.5*Vkk/w[4]*1e2,fmt='o')\n",
    "    #for i in range(10):\n",
    "    #    errorbar(mb.bc-i*5,mb.bc**0.5*(Skk[i]-Mkk)/w[4]*1e2,yerr=mb.bc**0.5*vkk/w[4]*1e2,fmt='o')\n",
    "    errorbar(mb.bc+5,mb.bc**0.5*Mkk/w[4]*1e2,yerr=mb.bc**0.5*Vkk/w[4]*1e2,fmt='o')\n",
    "    plot(aobj.l,aobj.l**0.5*aobj.ckk*1e2,color='k',ls='--')\n",
    "    figtext(.7,.80,r'$\\chi$-PTE:'+str(np.round(st0.px1,2)))\n",
    "    figtext(.7,.75,r'$\\chi^2$-PTE:'+str(np.round(st0.px2,2)))\n",
    "    figtext(.7,.70,r'$\\chi^2$-PTE (diag):'+str(np.round(st1.px2,2)))\n",
    "    axhline(0,color='k')\n",
    "    show()"
   ]
  },
  {
   "cell_type": "code",
   "execution_count": 3,
   "metadata": {},
   "outputs": [],
   "source": [
    "#qids = ['boss_01','boss_02','boss_03','boss_04']\n",
    "qids = ['boss_02','boss_03','boss_04']\n",
    "dirs = local.data_directory()\n",
    "qobj, Qobj = {}, {}\n",
    "for q in qids:\n",
    "    aobj = local.init_analysis_params(qid='diff_'+q,ascale=3.,wtype='com15v3pt')\n",
    "    qobj[q] = quad_func.reconstruction(dirs['local'],aobj.ids,stag=aobj.stag,rlmin=500,qlist=['TT'],bhe=['src'])\n",
    "    Qobj[q] = quad_func.reconstruction(dirs['local'],aobj.ids,stag=aobj.stag,rlmin=500,qlist=['TT'])\n",
    "# combined\n",
    "for wtype in ['iso15vcpt','iso15v3pt','com16v3pt','com15v3pt']:\n",
    "    aobj = local.init_analysis_params(qid='diff_dn',ascale=3.,wtype=wtype)\n",
    "    qobj[wtype] = quad_func.reconstruction(dirs['local'],aobj.ids,stag=aobj.stag,rlmin=500,qlist=['TT'],bhe=['src'])\n",
    "    Qobj[wtype] = quad_func.reconstruction(dirs['local'],aobj.ids,stag=aobj.stag,rlmin=500,qlist=['TT'])"
   ]
  },
  {
   "cell_type": "code",
   "execution_count": 4,
   "metadata": {},
   "outputs": [
    {
     "name": "stdout",
     "output_type": "stream",
     "text": [
      "wfactors: [2.64551209e-02 4.43198474e-08 1.08375184e-13 2.89033159e-19\n",
      " 8.10469432e-25]\n",
      "wfactors: [2.64897241e-02 7.90728095e-07 3.63343224e-11 1.90522948e-15\n",
      " 1.09009040e-19]\n",
      "wfactors: [1.98779519e-02 1.17519756e-06 8.70375332e-11 6.86867112e-15\n",
      " 5.62093631e-19]\n",
      "wfactors: [4.51812113e-02 2.37444337e-06 1.58420014e-10 1.16220309e-14\n",
      " 9.05749733e-19]\n"
     ]
    }
   ],
   "source": [
    "w = {wtype: tools_cmb.get_wfactors(['diff_dn'],3.,wtype=wtype)['diff_dn'] for wtype in ['iso15vcpt','iso15v3pt','com16v3pt','com15v3pt']}"
   ]
  },
  {
   "cell_type": "code",
   "execution_count": 5,
   "metadata": {},
   "outputs": [
    {
     "name": "stdout",
     "output_type": "stream",
     "text": [
      "wfactors: [4.65747638e-02 1.90091033e-06 8.88006409e-11 4.26664147e-15\n",
      " 2.10180355e-19]\n",
      "wfactors: [4.67007631e-02 2.96463524e-06 2.14690409e-10 1.58548493e-14\n",
      " 1.18846837e-18]\n",
      "wfactors: [4.74673400e-02 1.52910209e-06 5.72373897e-11 2.19044111e-15\n",
      " 8.53323443e-20]\n"
     ]
    }
   ],
   "source": [
    "w0 = tools_cmb.get_wfactors(qids,3.)"
   ]
  },
  {
   "cell_type": "code",
   "execution_count": 21,
   "metadata": {},
   "outputs": [
    {
     "name": "stdout",
     "output_type": "stream",
     "text": [
      "[1.00745883 0.99534121 1.00897216 1.0333261  0.97816643 0.95983904\n",
      " 0.94261784 0.92136897 0.93836719 0.96387042 0.94111    0.88802347\n",
      " 0.88951135 0.99928602 0.92667276 0.95741603 0.92475207 0.91577698\n",
      " 0.77513186 0.82095538]\n",
      "chi: 4.6 , chi (sim mean): 0.0 , chi (sim std): 5.8 , PTE: 0.56 \n",
      "chi^2: 34.5 , chi^2 (sim): 25.3 , PTE: 0.17 \n",
      "chi: 4.6 , chi (sim mean): 0.0 , chi (sim std): 5.8 , PTE: 0.56 \n",
      "chi^2: 27.3 , chi^2 (sim): 25.3 , PTE: 0.36 \n"
     ]
    },
    {
     "data": {
      "image/png": "[encoded data removed]",
      "text/plain": [
       "<Figure size 720x288 with 1 Axes>"
      ]
     },
     "metadata": {
      "needs_background": "light"
     },
     "output_type": "display_data"
    }
   ],
   "source": [
    "plot_spec(qobj['com16v3pt'],w['com16v3pt'],aobj.rlz,bnum=20)"
   ]
  },
  {
   "cell_type": "code",
   "execution_count": null,
   "metadata": {},
   "outputs": [],
   "source": [
    "plot_spec(Qobj['com16v3'],w['com16v3'],aobj.rlz,cn=1)"
   ]
  },
  {
   "cell_type": "code",
   "execution_count": null,
   "metadata": {},
   "outputs": [],
   "source": [
    "plot_spec(qobj['com15v3'],w['com15v3'],aobj.rlz[:64])"
   ]
  },
  {
   "cell_type": "code",
   "execution_count": null,
   "metadata": {},
   "outputs": [],
   "source": [
    "plot_spec(Qobj['com15v3'],w['com15v3'])"
   ]
  },
  {
   "cell_type": "code",
   "execution_count": null,
   "metadata": {},
   "outputs": [],
   "source": [
    "plot_spec(qobj['iso15dc'],w['iso15dc'])"
   ]
  },
  {
   "cell_type": "code",
   "execution_count": null,
   "metadata": {},
   "outputs": [],
   "source": [
    "plot_spec(qobj['iso15v3'],w['iso15v3'])"
   ]
  },
  {
   "cell_type": "code",
   "execution_count": null,
   "metadata": {},
   "outputs": [],
   "source": []
  }
 ],
 "metadata": {
  "kernelspec": {
   "display_name": "py4so",
   "language": "python",
   "name": "py4so"
  },
  "language_info": {
   "codemirror_mode": {
    "name": "ipython",
    "version": 3
   },
   "file_extension": ".py",
   "mimetype": "text/x-python",
   "name": "python",
   "nbconvert_exporter": "python",
   "pygments_lexer": "ipython3",
   "version": "3.7.2"
  }
 },
 "nbformat": 4,
 "nbformat_minor": 4
}
