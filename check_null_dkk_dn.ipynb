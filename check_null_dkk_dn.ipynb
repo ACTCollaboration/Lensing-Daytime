{
 "cells": [
  {
   "cell_type": "code",
   "execution_count": 1,
   "metadata": {},
   "outputs": [],
   "source": [
    "import numpy as np, plottools as pl, local, tools_cmb, quad_func, binning as bn, analysis as ana\n",
    "from matplotlib.pyplot import *\n",
    "import warnings\n",
    "warnings.filterwarnings(\"ignore\")"
   ]
  },
  {
   "cell_type": "code",
   "execution_count": 2,
   "metadata": {},
   "outputs": [],
   "source": [
    "def plot_spec(qobj0,qobj1,rlz=None,cn=2,bnum=10,lmin=40,lmax=2048):\n",
    "    mb = bn.multipole_binning(bnum,lmin=lmin,lmax=lmax)\n",
    "    __, __, Skk0, Okk0 = local.load_spec(qobj0,mb,rlz=rlz,cn=cn)\n",
    "    __, __, Skk1, Okk1 = local.load_spec(qobj1,mb,rlz=rlz,cn=cn)\n",
    "    Skk = (Skk0-Skk1)\n",
    "    Okk = (Okk0-Okk1)\n",
    "    Mkk = np.mean(Skk,axis=0)\n",
    "    Vkk = np.std(Skk,axis=0)\n",
    "    st0 = ana.PTEs(Okk,Skk,x1pte=True)\n",
    "    st1 = ana.PTEs(Okk,Skk,x1pte=True,diag=True)\n",
    "    # plot binned spectrum lin-scale\n",
    "    pl.plot_1dstyle(fsize=[10,4],xmin=mb.lmin,xmax=lmax,ylab='$10^2L^{0.5}C_L^{\\kappa\\kappa}$')\n",
    "    #errorbar(mb.bc-5,Mkk,yerr=Vkk,fmt='o')\n",
    "    errorbar(mb.bc-5,Okk-Mkk,yerr=Vkk,fmt='o')\n",
    "    plot(aobj.l,aobj.ckk,color='k',ls='--')\n",
    "    figtext(.7,.80,r'$\\chi$-PTE:'+str(np.round(st0.px1,2)))\n",
    "    figtext(.7,.75,r'$\\chi^2$-PTE:'+str(np.round(st0.px2,2)))\n",
    "    figtext(.7,.70,r'$\\chi^2$-PTE (diag):'+str(np.round(st1.px2,2)))\n",
    "    axhline(0,color='k')\n",
    "    show()"
   ]
  },
  {
   "cell_type": "code",
   "execution_count": 6,
   "metadata": {},
   "outputs": [],
   "source": [
    "dirs = local.data_directory()\n",
    "qobj = {}\n",
    "for qid in ['s15d','s15n']:\n",
    "    aobj = local.init_analysis_params(qid='boss_'+qid,fltr='cinv')\n",
    "#for qid in ['comb_d','comb_n']:\n",
    "#    aobj = local.init_analysis_params(qid=qid,ascale=3.,wtype='com16v0PT')\n",
    "    qobj[qid] = quad_func.reconstruction(dirs['local'],aobj.ids,stag=aobj.stag,rlmin=500,qlist=['TT'])"
   ]
  },
  {
   "cell_type": "code",
   "execution_count": 7,
   "metadata": {},
   "outputs": [
    {
     "name": "stdout",
     "output_type": "stream",
     "text": [
      "chi: -38.0 , chi (sim mean): -0.0 , chi (sim std): 5.1 , PTE: 0.00 \n",
      "chi^2: 86.4 , chi^2 (sim): 11.1 , PTE: 0.00 \n",
      "chi: -38.0 , chi (sim mean): -0.0 , chi (sim std): 5.1 , PTE: 0.00 \n",
      "chi^2: 171.0 , chi^2 (sim): 11.1 , PTE: 0.00 \n"
     ]
    },
    {
     "data": {
      "image/png": "[encoded data removed]",
      "text/plain": [
       "<Figure size 720x288 with 1 Axes>"
      ]
     },
     "metadata": {
      "needs_background": "light"
     },
     "output_type": "display_data"
    }
   ],
   "source": [
    "plot_spec(qobj['s15d'],qobj['s15n'],bnum=10,lmin=40)"
   ]
  },
  {
   "cell_type": "code",
   "execution_count": 4,
   "metadata": {},
   "outputs": [
    {
     "ename": "KeyError",
     "evalue": "'comb_d'",
     "output_type": "error",
     "traceback": [
      "\u001b[0;31m---------------------------------------------------------------------------\u001b[0m",
      "\u001b[0;31mKeyError\u001b[0m                                  Traceback (most recent call last)",
      "\u001b[0;32m<ipython-input-4-b4b8ba7d3f25>\u001b[0m in \u001b[0;36m<module>\u001b[0;34m\u001b[0m\n\u001b[0;32m----> 1\u001b[0;31m \u001b[0mplot_spec\u001b[0m\u001b[0;34m(\u001b[0m\u001b[0mqobj\u001b[0m\u001b[0;34m[\u001b[0m\u001b[0;34m'comb_d'\u001b[0m\u001b[0;34m]\u001b[0m\u001b[0;34m,\u001b[0m\u001b[0mqobj\u001b[0m\u001b[0;34m[\u001b[0m\u001b[0;34m'comb_n'\u001b[0m\u001b[0;34m]\u001b[0m\u001b[0;34m,\u001b[0m\u001b[0mbnum\u001b[0m\u001b[0;34m=\u001b[0m\u001b[0;36m10\u001b[0m\u001b[0;34m,\u001b[0m\u001b[0mlmin\u001b[0m\u001b[0;34m=\u001b[0m\u001b[0;36m40\u001b[0m\u001b[0;34m)\u001b[0m\u001b[0;34m\u001b[0m\u001b[0;34m\u001b[0m\u001b[0m\n\u001b[0m",
      "\u001b[0;31mKeyError\u001b[0m: 'comb_d'"
     ]
    }
   ],
   "source": [
    "#plot_spec(qobj['comb_d'],qobj['comb_n'],bnum=10,lmin=40)"
   ]
  },
  {
   "cell_type": "code",
   "execution_count": null,
   "metadata": {},
   "outputs": [],
   "source": []
  }
 ],
 "metadata": {
  "kernelspec": {
   "display_name": "py4so",
   "language": "python",
   "name": "py4so"
  },
  "language_info": {
   "codemirror_mode": {
    "name": "ipython",
    "version": 3
   },
   "file_extension": ".py",
   "mimetype": "text/x-python",
   "name": "python",
   "nbconvert_exporter": "python",
   "pygments_lexer": "ipython3",
   "version": "3.7.2"
  }
 },
 "nbformat": 4,
 "nbformat_minor": 4
}
