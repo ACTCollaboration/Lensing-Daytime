{
 "cells": [
  {
   "cell_type": "code",
   "execution_count": 1,
   "metadata": {},
   "outputs": [],
   "source": [
    "import numpy as np, curvedsky, local, healpy as hp, pickle\n",
    "from matplotlib.pyplot import *\n",
    "from tools_cmb import *\n",
    "import warnings\n",
    "warnings.filterwarnings(\"ignore\")"
   ]
  },
  {
   "cell_type": "code",
   "execution_count": 6,
   "metadata": {},
   "outputs": [],
   "source": [
    "aobj = {q: local.init_analysis_params(qid=q,ptsr='') for q in local.qid_all }"
   ]
  },
  {
   "cell_type": "code",
   "execution_count": 18,
   "metadata": {},
   "outputs": [
    {
     "name": "stdout",
     "output_type": "stream",
     "text": [
      "boss_d01 0.051861804\n",
      "boss_d02 0.051861804\n",
      "boss_d03 0.051861804\n",
      "boss_d04 0.051861804\n",
      "s16_d01 0.02354612\n",
      "s16_d02 0.02354612\n",
      "s16_d03 0.02354612\n",
      "boss_01 0.04957537\n",
      "boss_02 0.04957537\n",
      "boss_03 0.04957537\n",
      "boss_04 0.04957537\n"
     ]
    }
   ],
   "source": [
    "mask = {}\n",
    "for q in local.qid_all:\n",
    "    mask[q] = load_window_curvedsky( aobj[q], with_ivar=False, add_mask=False )\n",
    "    mask[q][mask[q]!=0] = 1.\n",
    "    print(q,np.mean(mask[q]))"
   ]
  },
  {
   "cell_type": "code",
   "execution_count": 21,
   "metadata": {},
   "outputs": [
    {
     "name": "stdout",
     "output_type": "stream",
     "text": [
      "2163.5039471516925\n"
     ]
    }
   ],
   "source": [
    "Wall = mask['boss_d01'] + mask['s16_d01'] - mask['boss_d01']*mask['s16_d01']\n",
    "print(np.mean(Wall)*4*np.pi*(180./np.pi)**2)"
   ]
  },
  {
   "cell_type": "code",
   "execution_count": null,
   "metadata": {},
   "outputs": [],
   "source": []
  }
 ],
 "metadata": {
  "kernelspec": {
   "display_name": "py4so",
   "language": "python",
   "name": "py4so"
  },
  "language_info": {
   "codemirror_mode": {
    "name": "ipython",
    "version": 3
   },
   "file_extension": ".py",
   "mimetype": "text/x-python",
   "name": "python",
   "nbconvert_exporter": "python",
   "pygments_lexer": "ipython3",
   "version": "3.7.2"
  }
 },
 "nbformat": 4,
 "nbformat_minor": 4
}
