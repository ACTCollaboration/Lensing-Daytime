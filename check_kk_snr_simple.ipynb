{
 "cells": [
  {
   "cell_type": "code",
   "execution_count": 1,
   "metadata": {},
   "outputs": [],
   "source": [
    "import numpy as np, curvedsky as cs, sys, plottools as pl, local, tools_cmb, tqdm\n",
    "from matplotlib.pyplot import *"
   ]
  },
  {
   "cell_type": "code",
   "execution_count": 20,
   "metadata": {},
   "outputs": [],
   "source": [
    "def aps_read(qids,wind='com16',ivar='noivar'):\n",
    "    aobj = {q: local.init_analysis_params(qid=q,wind=wind,ivar=ivar,ascale=1.0) for q in qids}\n",
    "    mcl  = {q: (np.loadtxt(aobj[q].fscl['c'])).T[1] for q in qids}\n",
    "    ncl  = {q: (np.loadtxt(aobj[q].fscl['n'])).T[1] for q in qids}\n",
    "    return aobj, mcl, ncl"
   ]
  },
  {
   "cell_type": "code",
   "execution_count": 10,
   "metadata": {},
   "outputs": [],
   "source": [
    "def SNR(L,ckk,nkk,Lmin=40,Lmax=2048,fsky=0.02,R=1.187):\n",
    "    snr = np.sqrt( fsky/R**2 * np.sum( (L[Lmin:Lmax+1]+.5)*ckk[Lmin:Lmax+1]**2/(ckk+nkk)[Lmin:Lmax+1]**2 ) )\n",
    "    print(snr)\n",
    "    return snr"
   ]
  },
  {
   "cell_type": "code",
   "execution_count": 11,
   "metadata": {},
   "outputs": [],
   "source": [
    "def comb_Nl(qids,mcl,ncl,cTT):\n",
    "    Nl = 0.\n",
    "    for q in qids:\n",
    "        flT = (mcl[q]-ncl[q])/cTT\n",
    "        flT = 1.\n",
    "        Nl += flT/ncl[q]\n",
    "    Nl = 1./Nl\n",
    "    return Nl"
   ]
  },
  {
   "cell_type": "code",
   "execution_count": 31,
   "metadata": {},
   "outputs": [],
   "source": [
    "qids_d = ['boss_d01','boss_d02','boss_d03','boss_d04','s16_d01','s16_d02','s16_d03']\n",
    "qids_n = local.boss_n\n",
    "qids_d_sub = local.boss_d\n",
    "qids_d_s16 = local.s_16_d\n",
    "qids_n_sub = local.boss_dn\n",
    "qids_t = local.qid_all"
   ]
  },
  {
   "cell_type": "code",
   "execution_count": 33,
   "metadata": {},
   "outputs": [],
   "source": [
    "aobj, mcl, ncl = aps_read(qids_t,wind='com16',ivar='noivar')\n",
    "#aobj, mcl, ncl = aps_read(qids_t,wtype='iso15v3pt')\n",
    "cTT = aobj[qids_t[0]].lcl[0,:]\n",
    "cTE = aobj[qids_t[0]].lcl[3,:]\n",
    "cEE = aobj[qids_t[0]].lcl[1,:]\n",
    "lcl = aobj[qids_t[0]].lcl[:4,:]"
   ]
  },
  {
   "cell_type": "code",
   "execution_count": 35,
   "metadata": {},
   "outputs": [
    {
     "name": "stderr",
     "output_type": "stream",
     "text": [
      "/global/homes/t/toshiyan/.conda/envs/loc/lib/python3.7/site-packages/ipykernel_launcher.py:4: RuntimeWarning: divide by zero encountered in true_divide\n",
      "  after removing the cwd from sys.path.\n",
      "/global/homes/t/toshiyan/.conda/envs/loc/lib/python3.7/site-packages/ipykernel_launcher.py:4: RuntimeWarning: invalid value encountered in true_divide\n",
      "  after removing the cwd from sys.path.\n",
      "/global/homes/t/toshiyan/.conda/envs/loc/lib/python3.7/site-packages/ipykernel_launcher.py:6: RuntimeWarning: divide by zero encountered in true_divide\n",
      "  \n",
      "/global/homes/t/toshiyan/.conda/envs/loc/lib/python3.7/site-packages/ipykernel_launcher.py:9: RuntimeWarning: divide by zero encountered in true_divide\n",
      "  if __name__ == '__main__':\n"
     ]
    }
   ],
   "source": [
    "Ncl = {}\n",
    "for qid in qids_t:\n",
    "    Ncl[qid] = comb_Nl([qid],mcl,ncl,cTT)\n",
    "Ncl['d'] = comb_Nl(qids_d,mcl,ncl,cTT)\n",
    "Ncl['n'] = comb_Nl(qids_n,mcl,ncl,cTT)\n",
    "Ncl['dboss'] = comb_Nl(qids_d_sub,mcl,ncl,cTT)\n",
    "Ncl['ds16'] = comb_Nl(qids_d_s16,mcl,ncl,cTT)\n",
    "Ncl['dnboss'] = comb_Nl(qids_n_sub,mcl,ncl,cTT)\n",
    "Ncl['all'] = 1./(1./Ncl['d']+1./Ncl['n'])"
   ]
  },
  {
   "cell_type": "code",
   "execution_count": 36,
   "metadata": {},
   "outputs": [],
   "source": [
    "#comb = ['d','n','dboss','ds16','dnboss','all']\n",
    "comb = local.qid_all"
   ]
  },
  {
   "cell_type": "code",
   "execution_count": 37,
   "metadata": {},
   "outputs": [],
   "source": [
    "ocl = {}\n",
    "for c in comb:\n",
    "    ocl[c] = lcl.copy()\n",
    "    ocl[c][0,:] += Ncl[c]\n",
    "    ocl[c][1,:] += 2*Ncl[c]\n",
    "    ocl[c][2,:] += 2*Ncl[c]"
   ]
  },
  {
   "cell_type": "code",
   "execution_count": 38,
   "metadata": {},
   "outputs": [],
   "source": [
    "Lmax = 2048\n",
    "rlmax = 3000\n",
    "L = np.linspace(0,Lmax,Lmax+1)\n",
    "ckk = aobj[qids_t[0]].ckk[:Lmax+1]\n",
    "rlmin = 500"
   ]
  },
  {
   "cell_type": "code",
   "execution_count": null,
   "metadata": {},
   "outputs": [
    {
     "name": "stdout",
     "output_type": "stream",
     "text": [
      "boss_d01\n",
      "boss_d03\n",
      "boss_d04\n",
      "s16_d01\n",
      "s16_d02\n",
      "s16_d03\n",
      "boss_01\n",
      "boss_02\n"
     ]
    }
   ],
   "source": [
    "Ag = {}\n",
    "for c in comb:\n",
    "    print(c)\n",
    "    QDO = [True,True,True,True,True,False]\n",
    "    Ag['MV',c], __, __, __ = cs.norm_quad.qall('lens',QDO,Lmax,rlmin,rlmax,lcl[:,:rlmax+1],ocl[c][:,:rlmax+1],lfac='k')"
   ]
  },
  {
   "cell_type": "code",
   "execution_count": 42,
   "metadata": {},
   "outputs": [
    {
     "data": {
      "text/plain": [
       "<matplotlib.legend.Legend at 0x2aaaf1cfceb8>"
      ]
     },
     "execution_count": 42,
     "metadata": {},
     "output_type": "execute_result"
    },
    {
     "data": {
      "image/png": "[encoded data removed]",
      "text/plain": [
       "<Figure size 432x288 with 1 Axes>"
      ]
     },
     "metadata": {
      "needs_background": "light"
     },
     "output_type": "display_data"
    }
   ],
   "source": [
    "pl.plot_1dstyle(xmin=1,xmax=Lmax,ymin=0,ymax=5e-7)\n",
    "for c in comb:\n",
    "    plot(L,Ag['MV',c][0,:],label=c+'TT')\n",
    "    plot(L,Ag['MV',c][5,:],label=c)\n",
    "plot(L,ckk,color='k',ls='-.')\n",
    "legend()"
   ]
  },
  {
   "cell_type": "code",
   "execution_count": 43,
   "metadata": {},
   "outputs": [
    {
     "name": "stdout",
     "output_type": "stream",
     "text": [
      "0 boss_d01\n",
      "0.607973166525634\n",
      "0 boss_d02\n",
      "1.1439567967868205\n",
      "0 boss_d03\n",
      "5.459025966676536\n",
      "0 boss_d04\n",
      "1.1373614228810767\n",
      "0 s16_d01\n",
      "4.612334663429796\n",
      "0 s16_d02\n",
      "7.118283699909813\n",
      "0 s16_d03\n",
      "2.452635578752342\n",
      "0 boss_01\n",
      "1.0913359357767467\n",
      "0 boss_02\n",
      "2.2743552225237886\n",
      "0 boss_03\n",
      "6.841846429363206\n",
      "0 boss_04\n",
      "1.8345408609166416\n",
      "5 boss_d01\n",
      "0.6200057903333918\n",
      "5 boss_d02\n",
      "1.1633575143129955\n",
      "5 boss_d03\n",
      "5.603963437358414\n",
      "5 boss_d04\n",
      "1.1584349834859775\n",
      "5 s16_d01\n",
      "4.701063952820815\n",
      "5 s16_d02\n",
      "7.318636431094065\n",
      "5 s16_d03\n",
      "2.5020083368550283\n",
      "5 boss_01\n",
      "1.1147384958945947\n",
      "5 boss_02\n",
      "2.3191606936752915\n",
      "5 boss_03\n",
      "7.074972082758416\n",
      "5 boss_04\n",
      "1.873698350988517\n"
     ]
    }
   ],
   "source": [
    "for q in [0,5]:\n",
    "    for c in comb:\n",
    "        print(q,c)\n",
    "        SNR(L,ckk,Ag['MV',c][q])\n",
    "        #SNR(L,ckk,Ag['MV',c][q],Lmin=50)\n",
    "        #SNR(L,ckk,Ag['MV',c][q],Lmin=50,Lmax=1000)"
   ]
  },
  {
   "cell_type": "code",
   "execution_count": 13,
   "metadata": {},
   "outputs": [
    {
     "name": "stderr",
     "output_type": "stream",
     "text": [
      "100%|██████████| 11/11 [00:25<00:00,  2.30s/it]\n"
     ]
    },
    {
     "ename": "KeyError",
     "evalue": "'dn'",
     "output_type": "error",
     "traceback": [
      "\u001b[0;31m---------------------------------------------------------------------------\u001b[0m",
      "\u001b[0;31mKeyError\u001b[0m                                  Traceback (most recent call last)",
      "\u001b[0;32m<ipython-input-13-c79417148333>\u001b[0m in \u001b[0;36m<module>\u001b[0;34m\u001b[0m\n\u001b[1;32m      9\u001b[0m     \u001b[0mAg_d\u001b[0m\u001b[0;34m,\u001b[0m \u001b[0m__\u001b[0m \u001b[0;34m=\u001b[0m \u001b[0mcs\u001b[0m\u001b[0;34m.\u001b[0m\u001b[0mnorm_lens\u001b[0m\u001b[0;34m.\u001b[0m\u001b[0mqtt\u001b[0m\u001b[0;34m(\u001b[0m\u001b[0mLmax\u001b[0m\u001b[0;34m,\u001b[0m\u001b[0mrlmin\u001b[0m\u001b[0;34m,\u001b[0m\u001b[0mrlmax\u001b[0m\u001b[0;34m,\u001b[0m\u001b[0mcTT\u001b[0m\u001b[0;34m[\u001b[0m\u001b[0;34m:\u001b[0m\u001b[0mrlmax\u001b[0m\u001b[0;34m+\u001b[0m\u001b[0;36m1\u001b[0m\u001b[0;34m]\u001b[0m\u001b[0;34m,\u001b[0m\u001b[0mocl\u001b[0m\u001b[0;34m[\u001b[0m\u001b[0;34m'd'\u001b[0m\u001b[0;34m]\u001b[0m\u001b[0;34m[\u001b[0m\u001b[0;36m0\u001b[0m\u001b[0;34m,\u001b[0m\u001b[0;34m:\u001b[0m\u001b[0mrlmax\u001b[0m\u001b[0;34m+\u001b[0m\u001b[0;36m1\u001b[0m\u001b[0;34m]\u001b[0m\u001b[0;34m,\u001b[0m\u001b[0mgtype\u001b[0m\u001b[0;34m=\u001b[0m\u001b[0;34m'k'\u001b[0m\u001b[0;34m)\u001b[0m\u001b[0;34m\u001b[0m\u001b[0;34m\u001b[0m\u001b[0m\n\u001b[1;32m     10\u001b[0m     \u001b[0mAg_n\u001b[0m\u001b[0;34m,\u001b[0m \u001b[0m__\u001b[0m \u001b[0;34m=\u001b[0m \u001b[0mcs\u001b[0m\u001b[0;34m.\u001b[0m\u001b[0mnorm_lens\u001b[0m\u001b[0;34m.\u001b[0m\u001b[0mqtt\u001b[0m\u001b[0;34m(\u001b[0m\u001b[0mLmax\u001b[0m\u001b[0;34m,\u001b[0m\u001b[0mrlmin\u001b[0m\u001b[0;34m,\u001b[0m\u001b[0mrlmax\u001b[0m\u001b[0;34m,\u001b[0m\u001b[0mcTT\u001b[0m\u001b[0;34m[\u001b[0m\u001b[0;34m:\u001b[0m\u001b[0mrlmax\u001b[0m\u001b[0;34m+\u001b[0m\u001b[0;36m1\u001b[0m\u001b[0;34m]\u001b[0m\u001b[0;34m,\u001b[0m\u001b[0mocl\u001b[0m\u001b[0;34m[\u001b[0m\u001b[0;34m'n'\u001b[0m\u001b[0;34m]\u001b[0m\u001b[0;34m[\u001b[0m\u001b[0;36m0\u001b[0m\u001b[0;34m,\u001b[0m\u001b[0;34m:\u001b[0m\u001b[0mrlmax\u001b[0m\u001b[0;34m+\u001b[0m\u001b[0;36m1\u001b[0m\u001b[0;34m]\u001b[0m\u001b[0;34m,\u001b[0m\u001b[0mgtype\u001b[0m\u001b[0;34m=\u001b[0m\u001b[0;34m'k'\u001b[0m\u001b[0;34m)\u001b[0m\u001b[0;34m\u001b[0m\u001b[0;34m\u001b[0m\u001b[0m\n\u001b[0;32m---> 11\u001b[0;31m     \u001b[0mAg_t\u001b[0m\u001b[0;34m,\u001b[0m \u001b[0m__\u001b[0m \u001b[0;34m=\u001b[0m \u001b[0mcs\u001b[0m\u001b[0;34m.\u001b[0m\u001b[0mnorm_lens\u001b[0m\u001b[0;34m.\u001b[0m\u001b[0mqtt\u001b[0m\u001b[0;34m(\u001b[0m\u001b[0mLmax\u001b[0m\u001b[0;34m,\u001b[0m\u001b[0mrlmin\u001b[0m\u001b[0;34m,\u001b[0m\u001b[0mrlmax\u001b[0m\u001b[0;34m,\u001b[0m\u001b[0mcTT\u001b[0m\u001b[0;34m[\u001b[0m\u001b[0;34m:\u001b[0m\u001b[0mrlmax\u001b[0m\u001b[0;34m+\u001b[0m\u001b[0;36m1\u001b[0m\u001b[0;34m]\u001b[0m\u001b[0;34m,\u001b[0m\u001b[0mocl\u001b[0m\u001b[0;34m[\u001b[0m\u001b[0;34m'dn'\u001b[0m\u001b[0;34m]\u001b[0m\u001b[0;34m[\u001b[0m\u001b[0;36m0\u001b[0m\u001b[0;34m,\u001b[0m\u001b[0;34m:\u001b[0m\u001b[0mrlmax\u001b[0m\u001b[0;34m+\u001b[0m\u001b[0;36m1\u001b[0m\u001b[0;34m]\u001b[0m\u001b[0;34m,\u001b[0m\u001b[0mgtype\u001b[0m\u001b[0;34m=\u001b[0m\u001b[0;34m'k'\u001b[0m\u001b[0;34m)\u001b[0m\u001b[0;34m\u001b[0m\u001b[0;34m\u001b[0m\u001b[0m\n\u001b[0m\u001b[1;32m     12\u001b[0m     \u001b[0mSN_d\u001b[0m\u001b[0;34m[\u001b[0m\u001b[0mi\u001b[0m\u001b[0;34m]\u001b[0m \u001b[0;34m=\u001b[0m \u001b[0mSNR\u001b[0m\u001b[0;34m(\u001b[0m\u001b[0mL\u001b[0m\u001b[0;34m,\u001b[0m\u001b[0mckk\u001b[0m\u001b[0;34m,\u001b[0m\u001b[0mAg_d\u001b[0m\u001b[0;34m)\u001b[0m\u001b[0;34m\u001b[0m\u001b[0;34m\u001b[0m\u001b[0m\n\u001b[1;32m     13\u001b[0m     \u001b[0mSN_n\u001b[0m\u001b[0;34m[\u001b[0m\u001b[0mi\u001b[0m\u001b[0;34m]\u001b[0m \u001b[0;34m=\u001b[0m \u001b[0mSNR\u001b[0m\u001b[0;34m(\u001b[0m\u001b[0mL\u001b[0m\u001b[0;34m,\u001b[0m\u001b[0mckk\u001b[0m\u001b[0;34m,\u001b[0m\u001b[0mAg_n\u001b[0m\u001b[0;34m)\u001b[0m\u001b[0;34m\u001b[0m\u001b[0;34m\u001b[0m\u001b[0m\n",
      "\u001b[0;31mKeyError\u001b[0m: 'dn'"
     ]
    }
   ],
   "source": [
    "rlmins = np.arange(1000,400,-100)\n",
    "SN_d = np.zeros(len(rlmins))\n",
    "SN_n = np.zeros(len(rlmins))\n",
    "SN_t = np.zeros(len(rlmins))\n",
    "for i, rlmin in enumerate(rlmins):\n",
    "    Ag = {}\n",
    "    for q in tqdm.tqdm(qids_t):\n",
    "        Ag[q], __ = cs.norm_quad.qtt('lens',Lmax,rlmin,rlmax,cTT[:rlmax+1],(cTT+ncl[q])[:rlmax+1],lfac='k')\n",
    "    Ag_d, __ = cs.norm_quad.qtt('lens',Lmax,rlmin,rlmax,cTT[:rlmax+1],ocl['d'][0,:rlmax+1],lfac='k')\n",
    "    Ag_n, __ = cs.norm_quad.qtt('lens',Lmax,rlmin,rlmax,cTT[:rlmax+1],ocl['n'][0,:rlmax+1],lfac='k')\n",
    "    Ag_t, __ = cs.norm_quad.qtt('lens',Lmax,rlmin,rlmax,cTT[:rlmax+1],ocl['dn'][0,:rlmax+1],lfac='k')\n",
    "    SN_d[i] = SNR(L,ckk,Ag_d)\n",
    "    SN_n[i] = SNR(L,ckk,Ag_n)\n",
    "    SN_t[i] = SNR(L,ckk,Ag_t)"
   ]
  },
  {
   "cell_type": "code",
   "execution_count": null,
   "metadata": {},
   "outputs": [],
   "source": [
    "pl.plot_1dstyle(xmin=500,xmax=1000,ymin=0,ymax=25,xlab='lmin',ylab='SN')\n",
    "plot(rlmins,SN_d)"
   ]
  },
  {
   "cell_type": "code",
   "execution_count": null,
   "metadata": {},
   "outputs": [],
   "source": [
    "pl.plot_1dstyle(ylog=True,xmin=1,xmax=Lmax,ymin=1e-8,ymax=1e-5)\n",
    "for q in qids_d:\n",
    "    plot(L,Ag[q],label=local.qid_label(q))\n",
    "plot(L,Ag_d,'-',label='total',color='k')\n",
    "plot(L,ckk,color='k',ls='-.')\n",
    "legend()"
   ]
  },
  {
   "cell_type": "code",
   "execution_count": null,
   "metadata": {},
   "outputs": [],
   "source": [
    "pl.plot_1dstyle(ylog=True,xmin=1,xmax=Lmax,ymin=1e-8,ymax=1e-5)\n",
    "for q in qids_n:\n",
    "    plot(L,Ag[q],label=local.qid_label(q))\n",
    "plot(L,Ag_n,'-',label='total',color='k')\n",
    "plot(L,ckk,color='k',ls='-.')\n",
    "legend()"
   ]
  },
  {
   "cell_type": "code",
   "execution_count": null,
   "metadata": {},
   "outputs": [],
   "source": [
    "pl.plot_1dstyle(ylog=False,xmin=1,xmax=Lmax,ymin=0.,ymax=5e-7)\n",
    "plot(L,Ag_d,'-',label='day (SN='+str(np.round(SN_d[-1],1))+')')\n",
    "plot(L,Ag_n,'--',label='night (SN='+str(np.round(SN_n[-1],1))+')')\n",
    "plot(L,Ag_t,'-',label='day+night (SN='+str(np.round(SN_t[-1],1))+')')\n",
    "plot(L,ckk,color='k',ls='-.')\n",
    "legend()"
   ]
  },
  {
   "cell_type": "code",
   "execution_count": null,
   "metadata": {},
   "outputs": [],
   "source": []
  }
 ],
 "metadata": {
  "kernelspec": {
   "display_name": "py4so",
   "language": "python",
   "name": "py4so"
  },
  "language_info": {
   "codemirror_mode": {
    "name": "ipython",
    "version": 3
   },
   "file_extension": ".py",
   "mimetype": "text/x-python",
   "name": "python",
   "nbconvert_exporter": "python",
   "pygments_lexer": "ipython3",
   "version": "3.7.2"
  }
 },
 "nbformat": 4,
 "nbformat_minor": 4
}
