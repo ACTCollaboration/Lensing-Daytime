{
 "cells": [
  {
   "cell_type": "code",
   "execution_count": 1,
   "metadata": {},
   "outputs": [],
   "source": [
    "import numpy as np, healpy as hp, plottools as pl, local, tools_cmb\n",
    "from matplotlib.pyplot import *\n",
    "import warnings\n",
    "warnings.filterwarnings(\"ignore\")"
   ]
  },
  {
   "cell_type": "code",
   "execution_count": 5,
   "metadata": {},
   "outputs": [],
   "source": [
    "wtypes = [('com15','V3'),('com15','v3'),('com15','noivar'),('com16','noivar')]"
   ]
  },
  {
   "cell_type": "code",
   "execution_count": 6,
   "metadata": {},
   "outputs": [
    {
     "name": "stdout",
     "output_type": "stream",
     "text": [
      "wfactors: [4.53104774e-02 1.62794352e-10 9.29759924e-19 6.31595731e-27\n",
      " 4.70456370e-35 3.72045521e-43 3.07707142e-51 2.63821670e-59\n",
      " 2.33034246e-67]\n",
      "wfactors: [4.53104774e-02 2.33442707e-06 1.55569206e-10 1.14043907e-14\n",
      " 8.87936369e-19 7.20315492e-23 6.01738209e-27 5.13905392e-31\n",
      " 4.46645099e-35]\n",
      "wfactors: [0.04531048 0.03751421 0.03593338 0.03515063 0.03465737 0.03430793\n",
      " 0.03404254 0.03383147 0.03365798]\n",
      "wfactors: [0.02025443 0.01521211 0.01419711 0.01369586 0.01338132 0.01315922\n",
      " 0.012991   0.01285749 0.01274794]\n"
     ]
    }
   ],
   "source": [
    "w = {wind+ivar: tools_cmb.get_wfactors(['comb_dn'],3.,wind=wind,ivar=ivar,wnmax=9)['comb_dn'] for wind, ivar in wtypes}"
   ]
  },
  {
   "cell_type": "code",
   "execution_count": 7,
   "metadata": {},
   "outputs": [
    {
     "name": "stdout",
     "output_type": "stream",
     "text": [
      "com15V3 2.1841871107803907 0.04531047741572062\n",
      "com15v3 1.6021337193303007 0.04531047741572062\n",
      "com15noivar 1.1268024971909525 0.04531047741572062\n",
      "com16noivar 1.2008293989083365 0.020254433155059814\n"
     ]
    }
   ],
   "source": [
    "for wind, ivar in wtypes:\n",
    "    wtype = wind + ivar\n",
    "    R = np.sqrt(w[wtype][8]/w[wtype][0])/(w[wtype][4]/w[wtype][0])\n",
    "    print(wtype,R,w[wtype][0])"
   ]
  },
  {
   "cell_type": "code",
   "execution_count": null,
   "metadata": {},
   "outputs": [],
   "source": []
  }
 ],
 "metadata": {
  "kernelspec": {
   "display_name": "py4so",
   "language": "python",
   "name": "py4so"
  },
  "language_info": {
   "codemirror_mode": {
    "name": "ipython",
    "version": 3
   },
   "file_extension": ".py",
   "mimetype": "text/x-python",
   "name": "python",
   "nbconvert_exporter": "python",
   "pygments_lexer": "ipython3",
   "version": "3.7.2"
  }
 },
 "nbformat": 4,
 "nbformat_minor": 4
}
