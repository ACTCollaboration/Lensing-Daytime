{
 "cells": [
  {
   "cell_type": "code",
   "execution_count": 4,
   "metadata": {},
   "outputs": [],
   "source": [
    "import numpy as np, healpy as hp, plottools as pl, local, tools_cmb\n",
    "from matplotlib.pyplot import *\n",
    "import warnings\n",
    "warnings.filterwarnings(\"ignore\")"
   ]
  },
  {
   "cell_type": "code",
   "execution_count": 5,
   "metadata": {},
   "outputs": [],
   "source": [
    "wtypes = ['iso15vcPT','iso15v3PT','com15V3PT','com15v3PT','com15v0PT','com16v3PT','com16v0PT']"
   ]
  },
  {
   "cell_type": "code",
   "execution_count": 6,
   "metadata": {},
   "outputs": [
    {
     "name": "stdout",
     "output_type": "stream",
     "text": [
      "wfactors: [2.62304013e-02 4.33808244e-08 1.05821123e-13 2.82024720e-19\n",
      " 7.90577578e-25 2.30129610e-30 6.90759203e-36 2.12732435e-41\n",
      " 6.69481141e-47]\n",
      "wfactors: [2.62649057e-02 7.75006666e-07 3.55596095e-11 1.86440532e-15\n",
      " 1.06666746e-19 6.51352485e-24 4.17548806e-28 2.77297427e-32\n",
      " 1.88855731e-36]\n",
      "wfactors: [4.46664865e-02 1.62794352e-10 9.29759924e-19 6.31595731e-27\n",
      " 4.70456370e-35 3.72045521e-43 3.07707142e-51 2.63821670e-59\n",
      " 2.33034246e-67]\n",
      "wfactors: [4.47968711e-02 2.33442707e-06 1.55569206e-10 1.14043907e-14\n",
      " 8.87936369e-19 7.20315492e-23 6.01738209e-27 5.13905392e-31\n",
      " 4.46645099e-35]\n",
      "wfactors: [0.04495212 0.03751421 0.03593338 0.03515063 0.03465737 0.03430793\n",
      " 0.03404254 0.03383147 0.03365798]\n",
      "wfactors: [1.97125729e-02 1.15415304e-06 8.52619202e-11 6.71715732e-15\n",
      " 5.48869026e-19 4.59768762e-23 3.92250356e-27 3.39440543e-31\n",
      " 2.97141177e-35]\n",
      "wfactors: [0.01979029 0.01521211 0.01419711 0.01369586 0.01338132 0.01315922\n",
      " 0.012991   0.01285749 0.01274794]\n"
     ]
    }
   ],
   "source": [
    "w = {wtype: tools_cmb.get_wfactors(['comb_dn'],3.,wtype=wtype,wnmax=9)['comb_dn'] for wtype in wtypes}"
   ]
  },
  {
   "cell_type": "code",
   "execution_count": 10,
   "metadata": {},
   "outputs": [
    {
     "name": "stdout",
     "output_type": "stream",
     "text": [
      "iso15vcPT 1.6762050634989143 0.026230401284856635\n",
      "iso15v3PT 2.0879685826205825 0.026264905748443566\n",
      "com15V3PT 2.168609804648983 0.04466648653381966\n",
      "com15v3PT 1.5930275345961022 0.044796871101921036\n",
      "com15v0PT 1.1223377754690342 0.044952121998622106\n",
      "com16v3PT 1.3943903022898523 0.01971257294219565\n",
      "com16v0PT 1.1869908804571572 0.01979029347007188\n"
     ]
    }
   ],
   "source": [
    "for wtype in wtypes:\n",
    "    R = np.sqrt(w[wtype][8]/w[wtype][0])/(w[wtype][4]/w[wtype][0])\n",
    "    print(wtype,R,w[wtype][0])"
   ]
  },
  {
   "cell_type": "code",
   "execution_count": null,
   "metadata": {},
   "outputs": [],
   "source": []
  }
 ],
 "metadata": {
  "kernelspec": {
   "display_name": "py4so",
   "language": "python",
   "name": "py4so"
  },
  "language_info": {
   "codemirror_mode": {
    "name": "ipython",
    "version": 3
   },
   "file_extension": ".py",
   "mimetype": "text/x-python",
   "name": "python",
   "nbconvert_exporter": "python",
   "pygments_lexer": "ipython3",
   "version": "3.7.2"
  }
 },
 "nbformat": 4,
 "nbformat_minor": 4
}
