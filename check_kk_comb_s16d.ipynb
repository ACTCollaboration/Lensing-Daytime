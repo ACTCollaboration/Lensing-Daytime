{
 "cells": [
  {
   "cell_type": "code",
   "execution_count": 1,
   "metadata": {},
   "outputs": [],
   "source": [
    "import numpy as np, healpy as hp, plottools as pl, local, tools_cmb, quad_func, binning as bn, analysis as ana\n",
    "from matplotlib.pyplot import *\n",
    "import warnings\n",
    "warnings.filterwarnings(\"ignore\")"
   ]
  },
  {
   "cell_type": "code",
   "execution_count": 2,
   "metadata": {},
   "outputs": [],
   "source": [
    "def plot_spec(qobj,rlz=None,cn=1,lmin=40,lmax=2048,bnum=10,output=True):\n",
    "    mb = bn.multipole_binning(bnum,lmin=lmin,lmax=lmax)\n",
    "    Mkk, Vkk, Skk, __, nb = local.load_spec(qobj,mb,rlz=rlz,cn=cn,outN0=True)\n",
    "    #Mkk = np.mean(Skk,axis=0)\n",
    "    #Vkk = np.std(Skk,axis=0)\n",
    "    print(np.sqrt(np.sum(Mkk**2/Vkk**2)))\n",
    "    st = ana.amplitude(Mkk,Skk,fcb=None,diag=False,disp=True)\n",
    "    # plot binned spectrum lin-scale\n",
    "    pl.plot_1dstyle(fsize=[10,4],xmin=mb.lmin,xmax=lmax,ylab='$C_L^{\\kappa\\kappa}$')\n",
    "    errorbar(mb.bc+5,Mkk,yerr=Vkk,fmt='o')\n",
    "    plot(aobj.l,aobj.ckk,color='k',ls='--')\n",
    "    axhline(0,color='k')\n",
    "    show()\n",
    "    if output: return mb, Mkk, Vkk, nb"
   ]
  },
  {
   "cell_type": "code",
   "execution_count": 3,
   "metadata": {},
   "outputs": [],
   "source": [
    "def plot_bias(qobj,cn=1):\n",
    "    pl.plot_1dstyle(fsize=[10,4],xmin=2,xmax=2048,ymin=1e-9,ymax=1e-4,ylog=True,ylab='$C_L^{\\kappa\\kappa}$')\n",
    "    l, al = (np.loadtxt(qobj.f['TT'].al,usecols=(0,cn))).T\n",
    "    l, n0 = (np.loadtxt(qobj.f['TT'].n0bs,usecols=(0,cn))).T\n",
    "    l, ml = (np.loadtxt(qobj.f['TT'].ml[1],usecols=(0,cn))).T\n",
    "    l, cl = (np.loadtxt(qobj.f['TT'].mcls,usecols=(0,cn))).T\n",
    "    plot(l,al,label='norm')\n",
    "    plot(l,n0,label='N0')\n",
    "    plot(l,ml,label='MF')\n",
    "    plot(l,cl/99.,label='MF-MC')\n",
    "    legend()"
   ]
  },
  {
   "cell_type": "code",
   "execution_count": 9,
   "metadata": {},
   "outputs": [],
   "source": [
    "dirs = local.data_directory()\n",
    "qobj, Qobj = {}, {}\n",
    "for wtype, ascale in [('com16v0PT',1.)]:\n",
    "    aobj = local.init_analysis_params(qid='comb_s16d',ascale=ascale,wtype=wtype)\n",
    "    qobj[wtype] = quad_func.reconstruction(dirs['local'],aobj.ids,stag=aobj.stag,rlmin=500,qlist=['TT'])"
   ]
  },
  {
   "cell_type": "code",
   "execution_count": 10,
   "metadata": {},
   "outputs": [
    {
     "name": "stdout",
     "output_type": "stream",
     "text": [
      "8.95982880637892\n",
      "obs A 1.0 mean(A) 1.001 sigma(A) 0.154 S/N 6.481 A>oA 0.96\n"
     ]
    },
    {
     "data": {
      "image/png": "[encoded data removed]",
      "text/plain": [
       "<Figure size 720x288 with 1 Axes>"
      ]
     },
     "metadata": {
      "needs_background": "light"
     },
     "output_type": "display_data"
    }
   ],
   "source": [
    "mb, mkk, vkk, nb = plot_spec(qobj['com16v0PT'],cn=1,bnum=10)"
   ]
  },
  {
   "cell_type": "code",
   "execution_count": null,
   "metadata": {},
   "outputs": [],
   "source": []
  }
 ],
 "metadata": {
  "kernelspec": {
   "display_name": "py4so",
   "language": "python",
   "name": "py4so"
  },
  "language_info": {
   "codemirror_mode": {
    "name": "ipython",
    "version": 3
   },
   "file_extension": ".py",
   "mimetype": "text/x-python",
   "name": "python",
   "nbconvert_exporter": "python",
   "pygments_lexer": "ipython3",
   "version": "3.7.2"
  }
 },
 "nbformat": 4,
 "nbformat_minor": 4
}
