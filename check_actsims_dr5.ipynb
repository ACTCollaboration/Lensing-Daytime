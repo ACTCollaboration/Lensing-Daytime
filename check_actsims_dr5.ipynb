{
 "cells": [
  {
   "cell_type": "code",
   "execution_count": 4,
   "metadata": {},
   "outputs": [],
   "source": [
    "from __future__ import print_function\n",
    "import matplotlib\n",
    "matplotlib.use('Agg')\n",
    "from pixell import enmap, enplot, fft\n",
    "import numpy as np\n",
    "import os, sys\n",
    "sys.path.append(\"/global/homes/t/toshiyan/Work/Lib/actlib/actsims/\")\n",
    "sys.path.append(\"/global/homes/t/toshiyan/Work/Lib/actlib/soapack/\")\n",
    "sys.path.append(\"/global/homes/t/toshiyan/Work/Lib/actlib/\")\n",
    "sys.path.append(\"/global/homes/t/toshiyan/Work/Lib/actlib/orphics/\")\n",
    "sys.path.append(\"/global/homes/t/toshiyan/Work/Lib/actlib/tilec/\")\n",
    "from actsims import noise\n",
    "from soapack import interfaces as sints\n",
    "from enlib import bench\n",
    "from orphics import io,stats\n",
    "import matplotlib.pyplot as plt\n",
    "from tilec import covtools\n",
    "import argparse"
   ]
  },
  {
   "cell_type": "code",
   "execution_count": 11,
   "metadata": {},
   "outputs": [],
   "source": [
    "# Parse command line\n",
    "version = 'v0'\n",
    "model = 'dr5'\n",
    "do_only_filter_noise = False\n",
    "mask_version = 'padded_v1'\n",
    "mask_kind = 'binary_apod'\n",
    "mask_patch = 'boss'\n",
    "mask_pad = None\n",
    "extract_mask = None\n",
    "covsqrt_kind = 'multipow'\n",
    "rlmin = 300\n",
    "fill_min = 150\n",
    "fill_const = True\n",
    "nsims = 3\n",
    "radial_fit_annulus = 20\n",
    "dfact = 8\n",
    "delta_ell = 100\n",
    "aminusc = False\n",
    "no_write = False\n",
    "calibrated = False\n",
    "no_off = False\n",
    "no_prewhiten = False\n",
    "overwrite = True\n",
    "debug = False\n",
    "lmax = None\n",
    "qid0 = 'boss_d03'"
   ]
  },
  {
   "cell_type": "code",
   "execution_count": 12,
   "metadata": {},
   "outputs": [],
   "source": [
    "coadd = not(aminusc)"
   ]
  },
  {
   "cell_type": "code",
   "execution_count": 13,
   "metadata": {},
   "outputs": [
    {
     "name": "stdout",
     "output_type": "stream",
     "text": [
      "pa3\n"
     ]
    }
   ],
   "source": [
    "# DR5 s15 daytime\n",
    "dm = sints.DR5()\n",
    "season = dm.ainfo(qid0,'season')\n",
    "patch = dm.ainfo(qid0,'region')\n",
    "array = dm.ainfo(qid0,'array')\n",
    "print(array)\n",
    "#qid = ['boss_d01']\n",
    "qid = ['boss_d03','boss_d04']"
   ]
  },
  {
   "cell_type": "code",
   "execution_count": 33,
   "metadata": {},
   "outputs": [],
   "source": [
    "if dfact == 0: \n",
    "    smooth = False\n",
    "else: \n",
    "    smooth = True\n",
    "    dfact = (dfact,dfact)"
   ]
  },
  {
   "cell_type": "code",
   "execution_count": 34,
   "metadata": {},
   "outputs": [],
   "source": [
    "# Make version tag\n",
    "other_keys={'mask_version':mask_version}\n",
    "for key in other_keys.keys():\n",
    "    version += (\"_\"+key+\"_\"+str(other_keys[key]))\n",
    "#####"
   ]
  },
  {
   "cell_type": "code",
   "execution_count": 35,
   "metadata": {},
   "outputs": [
    {
     "name": "stderr",
     "output_type": "stream",
     "text": [
      "/global/homes/t/toshiyan/Work/Lib/actlib/actsims/actsims/noise.py:143: UserWarning: Version directory already exists. Overwriting.\n",
      "  warnings.warn(\"Version directory already exists. Overwriting.\")\n"
     ]
    }
   ],
   "source": [
    "# Get file name convention\n",
    "pout,cout,sout = noise.get_save_paths(model,version,coadd,season=season,patch=patch,array=array,mkdir=True,overwrite=overwrite,mask_patch=mask_patch)"
   ]
  },
  {
   "cell_type": "code",
   "execution_count": 36,
   "metadata": {},
   "outputs": [],
   "source": [
    "# Get mask\n",
    "mask = sints.get_act_mr3_crosslinked_mask(mask_patch,version=mask_version,kind=mask_kind,season=season,array=array+\"_f150\",pad=mask_pad)"
   ]
  },
  {
   "cell_type": "code",
   "execution_count": 37,
   "metadata": {},
   "outputs": [],
   "source": [
    "# Get data model\n",
    "dm = sints.models[model](region=mask)"
   ]
  },
  {
   "cell_type": "code",
   "execution_count": 38,
   "metadata": {},
   "outputs": [],
   "source": [
    "# Get a NoiseGen model\n",
    "if extract_mask is not None:\n",
    "    emask = sints.get_act_mr3_crosslinked_mask(mask_patch,version=extract_mask,kind=mask_kind,season=season,array=array+\"_f150\")\n",
    "    eshape,ewcs = emask.shape,emask.wcs\n",
    "else:\n",
    "    emask = mask\n",
    "ngen = noise.NoiseGen( qid=qid, version=version, model=model, extract_region=emask, ncache=1, verbose=True )"
   ]
  },
  {
   "cell_type": "code",
   "execution_count": 39,
   "metadata": {},
   "outputs": [
    {
     "name": "stderr",
     "output_type": "stream",
     "text": [
      "/global/homes/t/toshiyan/Work/Lib/actlib/soapack/soapack/interfaces.py:774: UserWarning: An uncalibrated map was requested.\n",
      "  if not(calibrated) and warn: warnings.warn(\"An uncalibrated map was requested.\")\n"
     ]
    },
    {
     "name": "stdout",
     "output_type": "stream",
     "text": [
      "(3549, 12250) (3, 3549, 12250)\n",
      "(3549, 12250) (3, 3549, 12250)\n",
      "(3549, 12250) (3, 3549, 12250)\n",
      "(3549, 12250) (3, 3549, 12250)\n"
     ]
    },
    {
     "name": "stderr",
     "output_type": "stream",
     "text": [
      "/global/homes/t/toshiyan/Work/Lib/actlib/soapack/soapack/interfaces.py:774: UserWarning: An uncalibrated map was requested.\n",
      "  if not(calibrated) and warn: warnings.warn(\"An uncalibrated map was requested.\")\n"
     ]
    },
    {
     "name": "stdout",
     "output_type": "stream",
     "text": [
      "(3549, 12250) (3, 3549, 12250)\n",
      "(3549, 12250) (3, 3549, 12250)\n",
      "(3549, 12250) (3, 3549, 12250)\n",
      "(3549, 12250) (3, 3549, 12250)\n"
     ]
    }
   ],
   "source": [
    "# Get split data\n",
    "splits = enmap.enmap( [ dm.get_splits( q ) for q in qid ] )\n",
    "nsplits = 4"
   ]
  },
  {
   "cell_type": "code",
   "execution_count": 40,
   "metadata": {},
   "outputs": [
    {
     "name": "stdout",
     "output_type": "stream",
     "text": [
      "(2, 4, 3, 3549, 12250)\n"
     ]
    },
    {
     "data": {
      "text/plain": [
       "car:{cdelt:[-0.008333,0.008333],crval:[182.5,0],crpix:[7798,748]}"
      ]
     },
     "execution_count": 40,
     "metadata": {},
     "output_type": "execute_result"
    }
   ],
   "source": [
    "print(np.shape(splits))\n",
    "splits.wcs"
   ]
  },
  {
   "cell_type": "code",
   "execution_count": 41,
   "metadata": {},
   "outputs": [
    {
     "name": "stderr",
     "output_type": "stream",
     "text": [
      "/global/homes/t/toshiyan/Work/Lib/actlib/soapack/soapack/interfaces.py:780: UserWarning: An uncalibrated map was requested.\n",
      "  if not(calibrated) and warn: warnings.warn(\"An uncalibrated map was requested.\")\n"
     ]
    },
    {
     "name": "stdout",
     "output_type": "stream",
     "text": [
      "(3549, 12250) (3549, 12250)\n",
      "(3549, 12250) (3549, 12250)\n",
      "(3549, 12250) (3549, 12250)\n",
      "(3549, 12250) (3549, 12250)\n"
     ]
    },
    {
     "name": "stderr",
     "output_type": "stream",
     "text": [
      "/global/homes/t/toshiyan/Work/Lib/actlib/soapack/soapack/interfaces.py:780: UserWarning: An uncalibrated map was requested.\n",
      "  if not(calibrated) and warn: warnings.warn(\"An uncalibrated map was requested.\")\n"
     ]
    },
    {
     "name": "stdout",
     "output_type": "stream",
     "text": [
      "(3549, 12250) (3549, 12250)\n",
      "(3549, 12250) (3549, 12250)\n",
      "(3549, 12250) (3549, 12250)\n",
      "(3549, 12250) (3549, 12250)\n"
     ]
    }
   ],
   "source": [
    "# Get inverse variance map\n",
    "ivars = enmap.enmap( [ dm.get_ivars( q ) for q in qid ] )"
   ]
  },
  {
   "cell_type": "code",
   "execution_count": 42,
   "metadata": {},
   "outputs": [
    {
     "name": "stdout",
     "output_type": "stream",
     "text": [
      "(2, 4, 1, 3549, 12250)\n"
     ]
    },
    {
     "data": {
      "text/plain": [
       "car:{cdelt:[-0.008333,0.008333],crval:[182.5,0],crpix:[7798,748]}"
      ]
     },
     "execution_count": 42,
     "metadata": {},
     "output_type": "execute_result"
    }
   ],
   "source": [
    "print(np.shape(ivars))\n",
    "ivars.wcs"
   ]
  },
  {
   "cell_type": "code",
   "execution_count": 43,
   "metadata": {},
   "outputs": [
    {
     "name": "stderr",
     "output_type": "stream",
     "text": [
      "/global/homes/t/toshiyan/Work/Lib/actlib/actsims/actsims/noise.py:258: RuntimeWarning: invalid value encountered in true_divide\n",
      "  retmap = np.nan_to_num(np.sum(wts*imaps,axis=axis)/twt)\n",
      "/global/homes/t/toshiyan/Work/Lib/actlib/actsims/actsims/noise.py:180: RuntimeWarning: divide by zero encountered in true_divide\n",
      "  sivars   = ((1./ivars) - (1./civars[:,None,...]))**-0.5\n",
      "/global/homes/t/toshiyan/Work/Lib/actlib/actsims/actsims/noise.py:180: RuntimeWarning: divide by zero encountered in true_divide\n",
      "  sivars   = ((1./ivars) - (1./civars[:,None,...]))**-0.5\n",
      "/global/homes/t/toshiyan/Work/Lib/actlib/actsims/actsims/noise.py:180: RuntimeWarning: invalid value encountered in subtract\n",
      "  sivars   = ((1./ivars) - (1./civars[:,None,...]))**-0.5\n",
      "/global/homes/t/toshiyan/Work/Lib/actlib/actsims/actsims/noise.py:180: RuntimeWarning: divide by zero encountered in power\n",
      "  sivars   = ((1./ivars) - (1./civars[:,None,...]))**-0.5\n"
     ]
    }
   ],
   "source": [
    "modlmap = splits.modlmap()\n",
    "flatstring = \"un\" if do_only_filter_noise else \"\"\n",
    "n2d_xflat = noise.get_n2d_data(splits,ivars,mask,coadd_estimator=coadd,flattened=not(do_only_filter_noise),plot_fname=pout+\"_n2d_%sflat\" % flatstring if debug else None,dtype=dm.dtype)\n",
    "ncomps = n2d_xflat.shape[0]\n",
    "if ncomps==1: npol = 1\n",
    "else: npol = 3\n",
    "mask_ell = rlmin - radial_fit_annulus\n",
    "#del splits"
   ]
  },
  {
   "cell_type": "code",
   "execution_count": null,
   "metadata": {},
   "outputs": [],
   "source": [
    "radial_pairs = [(0,0),(1,1),(2,2),(3,3),(4,4),(5,5),(0,3),(3,0)] if not(no_prewhiten) else []\n",
    "if smooth:\n",
    "    n2d_xflat_smoothed = noise.smooth_ps(n2d_xflat.copy(),dfact=dfact,radial_pairs=radial_pairs,\n",
    "                                        plot_fname=pout+\"_n2d_%sflat_smoothed\" % flatstring if debug else None,\n",
    "                                        radial_fit_annulus = radial_fit_annulus,\n",
    "                                        radial_fit_lmin=rlmin,fill_lmax=lmax,log=not(delta_ell is None),delta_ell=delta_ell,nsplits=nsplits)\n",
    "else:\n",
    "    n2d_xflat_smoothed = n2d_xflat.copy()\n",
    "del n2d_xflat"
   ]
  },
  {
   "cell_type": "code",
   "execution_count": 15,
   "metadata": {},
   "outputs": [
    {
     "data": {
      "text/plain": [
       "'\\nfill_val = 0\\nif fill_const: fill_val = n2d_xflat_smoothed[:,:,np.logical_and(modlmap>fill_min,modlmap<(fill_min+radial_fit_annulus))].mean()\\nif fill_min is not None: n2d_xflat_smoothed[:,:,modlmap<fill_min] = fill_val\\nn2d_xflat_smoothed[:,:,modlmap<2] = 0\\nif lmax is not None: n2d_xflat_smoothed[:,:,modlmap>lmax] = 0\\n\\nif no_off: n2d_xflat_smoothed = noise.null_off_diagonals(n2d_xflat_smoothed)\\n\\nif do_only_filter_noise:\\n    ngen.save_filter_noise(n2d_xflat_smoothed,season=season,patch=patch,array=array,coadd=coadd,mask_patch=mask_patch)    \\n    sys.exit()\\n\\ncovsqrt = noise.get_covsqrt(n2d_xflat_smoothed,covsqrt_kind)\\ndel n2d_xflat_smoothed\\nngen.save_covsqrt(covsqrt,season=season,patch=patch,array=array,coadd=coadd,mask_patch=mask_patch)\\n'"
      ]
     },
     "execution_count": 15,
     "metadata": {},
     "output_type": "execute_result"
    }
   ],
   "source": [
    "'''\n",
    "fill_val = 0\n",
    "if fill_const: fill_val = n2d_xflat_smoothed[:,:,np.logical_and(modlmap>fill_min,modlmap<(fill_min+radial_fit_annulus))].mean()\n",
    "if fill_min is not None: n2d_xflat_smoothed[:,:,modlmap<fill_min] = fill_val\n",
    "n2d_xflat_smoothed[:,:,modlmap<2] = 0\n",
    "if lmax is not None: n2d_xflat_smoothed[:,:,modlmap>lmax] = 0\n",
    "\n",
    "if no_off: n2d_xflat_smoothed = noise.null_off_diagonals(n2d_xflat_smoothed)\n",
    "\n",
    "if do_only_filter_noise:\n",
    "    ngen.save_filter_noise(n2d_xflat_smoothed,season=season,patch=patch,array=array,coadd=coadd,mask_patch=mask_patch)    \n",
    "    sys.exit()\n",
    "\n",
    "covsqrt = noise.get_covsqrt(n2d_xflat_smoothed,covsqrt_kind)\n",
    "del n2d_xflat_smoothed\n",
    "ngen.save_covsqrt(covsqrt,season=season,patch=patch,array=array,coadd=coadd,mask_patch=mask_patch)\n",
    "'''"
   ]
  },
  {
   "cell_type": "code",
   "execution_count": null,
   "metadata": {},
   "outputs": [],
   "source": [
    "if nsims>0:\n",
    "    bin_edges = np.arange(40,8000,40)\n",
    "    p1ds = []\n",
    "    for i in range(nsims):\n",
    "        print(\"Sim %d of %d ...\" % (i+1,nsims))\n",
    "        with bench.show(\"simgen\"):\n",
    "            sims = ngen.generate_sim(season=season,patch=patch,array=array,seed=i,mask_patch=mask_patch)\n",
    "            print(sims.nbytes/1024./1024./1024., \" GB\", sims.shape, sims.dtype)\n",
    "        if extract_mask is not None: \n",
    "            ivars2 = enmap.extract(ivars,eshape,ewcs)\n",
    "            modlmap = enmap.modlmap(eshape,ewcs)\n",
    "        else:\n",
    "            ivars2 = ivars\n",
    "\n",
    "        if debug and i==0: noise.plot(pout+\"_sims\",sims)\n",
    "        if not(no_write):\n",
    "            ngen.save_sims(i,sims,season,patch,array,coadd=coadd,mask_patch=mask_patch)\n",
    "        n2d_sim = noise.get_n2d_data(sims,ivars2,emask,coadd_estimator=coadd,flattened=False,plot_fname=pout+\"_n2d_sim\" if (debug and i==0) else None,dtype = dm.dtype)\n",
    "        del sims\n",
    "        cents,op1ds_sim = noise.get_p1ds(n2d_sim,modlmap,bin_edges)\n",
    "        p1ds.append(op1ds_sim.copy().reshape(-1))\n",
    "    p1dstats = stats.get_stats(np.array(p1ds))\n",
    "\n",
    "    #del covsqrt\n",
    "\n",
    "    # For verification\n",
    "    splits = dm.get_splits(qid)\n",
    "    splits = np.expand_dims(splits,axis=0)\n",
    "    \n",
    "    if extract_mask is not None: \n",
    "        splits = enmap.extract(splits,eshape,ewcs)\n",
    "\n",
    "    n2d_data = noise.get_n2d_data(splits,ivars2,emask,coadd_estimator=coadd,dtype=dm.dtype)\n",
    "    cents,p1ds_data = noise.get_p1ds(n2d_data,modlmap,bin_edges)\n",
    "    corr = noise.corrcoef(n2d_data)\n",
    "    del n2d_data\n",
    "    bin_edges = np.arange(40,10000,100)\n",
    "    cents2,c1ds_data = noise.get_p1ds(corr,modlmap,bin_edges)\n",
    "    noise.plot_corrcoeff(cents2,c1ds_data,plot_fname=pout)\n",
    "\n",
    "    noise.compare_ps(cents,p1dstats['mean'].reshape((npol,npol,cents.size)),p1ds_data,plot_fname=\"%s_compare\" % (pout),err=p1dstats['errmean'].reshape((npol,npol,cents.size)))\n"
   ]
  },
  {
   "cell_type": "code",
   "execution_count": null,
   "metadata": {},
   "outputs": [],
   "source": []
  }
 ],
 "metadata": {
  "kernelspec": {
   "display_name": "py4so",
   "language": "python",
   "name": "py4so"
  },
  "language_info": {
   "codemirror_mode": {
    "name": "ipython",
    "version": 3
   },
   "file_extension": ".py",
   "mimetype": "text/x-python",
   "name": "python",
   "nbconvert_exporter": "python",
   "pygments_lexer": "ipython3",
   "version": "3.7.2"
  }
 },
 "nbformat": 4,
 "nbformat_minor": 4
}
